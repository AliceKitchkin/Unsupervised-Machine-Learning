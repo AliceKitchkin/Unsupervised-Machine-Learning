{
  "cells": [
    {
      "cell_type": "markdown",
      "metadata": {
        "id": "view-in-github",
        "colab_type": "text"
      },
      "source": [
        "<a href=\"https://colab.research.google.com/github/AliceKitchkin/Unsupervised-Machine-Learning/blob/main/AirlinePassengerSatisfaction.ipynb\" target=\"_parent\"><img src=\"https://colab.research.google.com/assets/colab-badge.svg\" alt=\"Open In Colab\"/></a>"
      ]
    },
    {
      "cell_type": "markdown",
      "id": "7d93a242",
      "metadata": {
        "id": "7d93a242"
      },
      "source": [
        "#1. Bibliotheken und Daten Import\n",
        "\n",
        "---"
      ]
    },
    {
      "cell_type": "code",
      "execution_count": 1,
      "id": "1c20e6ef",
      "metadata": {
        "id": "1c20e6ef"
      },
      "outputs": [],
      "source": [
        "# handle table-like data and matrices\n",
        "import pandas as pd\n",
        "import numpy as np\n",
        "\n",
        "# visualisation\n",
        "import seaborn as sns\n",
        "import matplotlib.pyplot as plt\n",
        "import missingno as msno\n",
        "import plotly.express as px\n",
        "import plotly.graph_objects as go\n",
        "from plotly.subplots import make_subplots\n",
        "import plotly.figure_factory as ff\n",
        "\n",
        "# preprocessing\n",
        "from sklearn.preprocessing import StandardScaler\n",
        "\n",
        "# pca\n",
        "from sklearn.decomposition import PCA\n",
        "\n",
        "# clustering\n",
        "from yellowbrick.cluster import KElbowVisualizer\n",
        "from sklearn.cluster import KMeans, AgglomerativeClustering\n",
        "\n",
        "# evaluations\n",
        "from sklearn.metrics import confusion_matrix\n",
        "\n",
        "# ignore warnings\n",
        "import warnings\n",
        "warnings.filterwarnings('ignore')\n",
        "\n",
        "# to display the total number columns present in the dataset\n",
        "pd.set_option('display.max_columns', None)"
      ]
    },
    {
      "cell_type": "code",
      "execution_count": 2,
      "id": "06a77036",
      "metadata": {
        "id": "06a77036",
        "outputId": "8b538d04-4951-4bfb-d556-9d61be55d2e7",
        "colab": {
          "base_uri": "https://localhost:8080/",
          "height": 0
        }
      },
      "outputs": [
        {
          "output_type": "error",
          "ename": "KeyboardInterrupt",
          "evalue": "ignored",
          "traceback": [
            "\u001b[0;31m---------------------------------------------------------------------------\u001b[0m",
            "\u001b[0;31mKeyboardInterrupt\u001b[0m                         Traceback (most recent call last)",
            "\u001b[0;32m<ipython-input-2-d5df0069828e>\u001b[0m in \u001b[0;36m<module>\u001b[0;34m\u001b[0m\n\u001b[1;32m      1\u001b[0m \u001b[0;32mfrom\u001b[0m \u001b[0mgoogle\u001b[0m\u001b[0;34m.\u001b[0m\u001b[0mcolab\u001b[0m \u001b[0;32mimport\u001b[0m \u001b[0mdrive\u001b[0m\u001b[0;34m\u001b[0m\u001b[0;34m\u001b[0m\u001b[0m\n\u001b[0;32m----> 2\u001b[0;31m \u001b[0mdrive\u001b[0m\u001b[0;34m.\u001b[0m\u001b[0mmount\u001b[0m\u001b[0;34m(\u001b[0m\u001b[0;34m'/content/drive'\u001b[0m\u001b[0;34m)\u001b[0m\u001b[0;34m\u001b[0m\u001b[0;34m\u001b[0m\u001b[0m\n\u001b[0m",
            "\u001b[0;32m/usr/local/lib/python3.8/dist-packages/google/colab/drive.py\u001b[0m in \u001b[0;36mmount\u001b[0;34m(mountpoint, force_remount, timeout_ms, readonly)\u001b[0m\n\u001b[1;32m     99\u001b[0m \u001b[0;32mdef\u001b[0m \u001b[0mmount\u001b[0m\u001b[0;34m(\u001b[0m\u001b[0mmountpoint\u001b[0m\u001b[0;34m,\u001b[0m \u001b[0mforce_remount\u001b[0m\u001b[0;34m=\u001b[0m\u001b[0;32mFalse\u001b[0m\u001b[0;34m,\u001b[0m \u001b[0mtimeout_ms\u001b[0m\u001b[0;34m=\u001b[0m\u001b[0;36m120000\u001b[0m\u001b[0;34m,\u001b[0m \u001b[0mreadonly\u001b[0m\u001b[0;34m=\u001b[0m\u001b[0;32mFalse\u001b[0m\u001b[0;34m)\u001b[0m\u001b[0;34m:\u001b[0m\u001b[0;34m\u001b[0m\u001b[0;34m\u001b[0m\u001b[0m\n\u001b[1;32m    100\u001b[0m   \u001b[0;34m\"\"\"Mount your Google Drive at the specified mountpoint path.\"\"\"\u001b[0m\u001b[0;34m\u001b[0m\u001b[0;34m\u001b[0m\u001b[0m\n\u001b[0;32m--> 101\u001b[0;31m   return _mount(\n\u001b[0m\u001b[1;32m    102\u001b[0m       \u001b[0mmountpoint\u001b[0m\u001b[0;34m,\u001b[0m\u001b[0;34m\u001b[0m\u001b[0;34m\u001b[0m\u001b[0m\n\u001b[1;32m    103\u001b[0m       \u001b[0mforce_remount\u001b[0m\u001b[0;34m=\u001b[0m\u001b[0mforce_remount\u001b[0m\u001b[0;34m,\u001b[0m\u001b[0;34m\u001b[0m\u001b[0;34m\u001b[0m\u001b[0m\n",
            "\u001b[0;32m/usr/local/lib/python3.8/dist-packages/google/colab/drive.py\u001b[0m in \u001b[0;36m_mount\u001b[0;34m(mountpoint, force_remount, timeout_ms, ephemeral, readonly)\u001b[0m\n\u001b[1;32m    122\u001b[0m       'TBE_EPHEM_CREDS_ADDR'] if ephemeral else _os.environ['TBE_CREDS_ADDR']\n\u001b[1;32m    123\u001b[0m   \u001b[0;32mif\u001b[0m \u001b[0mephemeral\u001b[0m\u001b[0;34m:\u001b[0m\u001b[0;34m\u001b[0m\u001b[0;34m\u001b[0m\u001b[0m\n\u001b[0;32m--> 124\u001b[0;31m     _message.blocking_request(\n\u001b[0m\u001b[1;32m    125\u001b[0m         'request_auth', request={'authType': 'dfs_ephemeral'}, timeout_sec=None)\n\u001b[1;32m    126\u001b[0m \u001b[0;34m\u001b[0m\u001b[0m\n",
            "\u001b[0;32m/usr/local/lib/python3.8/dist-packages/google/colab/_message.py\u001b[0m in \u001b[0;36mblocking_request\u001b[0;34m(request_type, request, timeout_sec, parent)\u001b[0m\n\u001b[1;32m    169\u001b[0m   request_id = send_request(\n\u001b[1;32m    170\u001b[0m       request_type, request, parent=parent, expect_reply=True)\n\u001b[0;32m--> 171\u001b[0;31m   \u001b[0;32mreturn\u001b[0m \u001b[0mread_reply_from_input\u001b[0m\u001b[0;34m(\u001b[0m\u001b[0mrequest_id\u001b[0m\u001b[0;34m,\u001b[0m \u001b[0mtimeout_sec\u001b[0m\u001b[0;34m)\u001b[0m\u001b[0;34m\u001b[0m\u001b[0;34m\u001b[0m\u001b[0m\n\u001b[0m",
            "\u001b[0;32m/usr/local/lib/python3.8/dist-packages/google/colab/_message.py\u001b[0m in \u001b[0;36mread_reply_from_input\u001b[0;34m(message_id, timeout_sec)\u001b[0m\n\u001b[1;32m     95\u001b[0m     \u001b[0mreply\u001b[0m \u001b[0;34m=\u001b[0m \u001b[0m_read_next_input_message\u001b[0m\u001b[0;34m(\u001b[0m\u001b[0;34m)\u001b[0m\u001b[0;34m\u001b[0m\u001b[0;34m\u001b[0m\u001b[0m\n\u001b[1;32m     96\u001b[0m     \u001b[0;32mif\u001b[0m \u001b[0mreply\u001b[0m \u001b[0;34m==\u001b[0m \u001b[0m_NOT_READY\u001b[0m \u001b[0;32mor\u001b[0m \u001b[0;32mnot\u001b[0m \u001b[0misinstance\u001b[0m\u001b[0;34m(\u001b[0m\u001b[0mreply\u001b[0m\u001b[0;34m,\u001b[0m \u001b[0mdict\u001b[0m\u001b[0;34m)\u001b[0m\u001b[0;34m:\u001b[0m\u001b[0;34m\u001b[0m\u001b[0;34m\u001b[0m\u001b[0m\n\u001b[0;32m---> 97\u001b[0;31m       \u001b[0mtime\u001b[0m\u001b[0;34m.\u001b[0m\u001b[0msleep\u001b[0m\u001b[0;34m(\u001b[0m\u001b[0;36m0.025\u001b[0m\u001b[0;34m)\u001b[0m\u001b[0;34m\u001b[0m\u001b[0;34m\u001b[0m\u001b[0m\n\u001b[0m\u001b[1;32m     98\u001b[0m       \u001b[0;32mcontinue\u001b[0m\u001b[0;34m\u001b[0m\u001b[0;34m\u001b[0m\u001b[0m\n\u001b[1;32m     99\u001b[0m     if (reply.get('type') == 'colab_reply' and\n",
            "\u001b[0;31mKeyboardInterrupt\u001b[0m: "
          ]
        }
      ],
      "source": [
        "from google.colab import drive\n",
        "drive.mount('/content/drive')"
      ]
    },
    {
      "cell_type": "code",
      "execution_count": null,
      "id": "fed7c446",
      "metadata": {
        "id": "fed7c446"
      },
      "outputs": [],
      "source": [
        "data_raw = pd.read_csv(\"/content/drive/MyDrive/Bachelorarbeit/CSV/Airline Passenger Satisfaction/AirlinePassengerData_Test.csv\")\n",
        "data = data_raw.copy()"
      ]
    },
    {
      "cell_type": "markdown",
      "source": [
        "#2. Aufbereitung\n",
        "\n",
        "---"
      ],
      "metadata": {
        "id": "EhBlhQA_enYG"
      },
      "id": "EhBlhQA_enYG"
    },
    {
      "cell_type": "markdown",
      "source": [
        "##2.1 First Look"
      ],
      "metadata": {
        "id": "Ihh3atcMu4W1"
      },
      "id": "Ihh3atcMu4W1"
    },
    {
      "cell_type": "code",
      "source": [
        "data_raw.head(5)"
      ],
      "metadata": {
        "id": "gelBwlB6i1Ys"
      },
      "id": "gelBwlB6i1Ys",
      "execution_count": null,
      "outputs": []
    },
    {
      "cell_type": "code",
      "source": [
        "data_raw.info()"
      ],
      "metadata": {
        "id": "25aPMUKmk57X"
      },
      "id": "25aPMUKmk57X",
      "execution_count": null,
      "outputs": []
    },
    {
      "cell_type": "code",
      "source": [
        "data_raw.shape"
      ],
      "metadata": {
        "id": "KhikwjBAxVvK"
      },
      "id": "KhikwjBAxVvK",
      "execution_count": null,
      "outputs": []
    },
    {
      "cell_type": "code",
      "source": [
        "data_raw.describe(include = 'all')"
      ],
      "metadata": {
        "id": "MTw6Qh1QxcxB"
      },
      "id": "MTw6Qh1QxcxB",
      "execution_count": null,
      "outputs": []
    },
    {
      "cell_type": "markdown",
      "source": [
        "##2.2 Missing Values"
      ],
      "metadata": {
        "id": "Kb1IhXJcfdkk"
      },
      "id": "Kb1IhXJcfdkk"
    },
    {
      "cell_type": "markdown",
      "source": [
        "Missingno is a Python library that provides the ability to understand the distribution of missing values through informative visualizations."
      ],
      "metadata": {
        "id": "rKHWhblEgZti"
      },
      "id": "rKHWhblEgZti"
    },
    {
      "cell_type": "code",
      "source": [
        "print(data_raw.isna().sum())"
      ],
      "metadata": {
        "id": "e1wo2Ka6hPMD"
      },
      "id": "e1wo2Ka6hPMD",
      "execution_count": null,
      "outputs": []
    },
    {
      "cell_type": "code",
      "source": [
        "msno.matrix(data_raw)"
      ],
      "metadata": {
        "id": "kbvYb-6BfUWK"
      },
      "id": "kbvYb-6BfUWK",
      "execution_count": null,
      "outputs": []
    },
    {
      "cell_type": "markdown",
      "source": [
        "Die Spalte \"Arrival Delay in Minutes\" (Ankunftsverspätung in Minuten) hat 83 fehlende Werte."
      ],
      "metadata": {
        "id": "zoFl769PhaPu"
      },
      "id": "zoFl769PhaPu"
    },
    {
      "cell_type": "code",
      "source": [
        "#Zeilen mit fehlenden Werten löschen\n",
        "data = data.dropna()\n",
        "data.isna().sum()"
      ],
      "metadata": {
        "id": "At-7n1XUv3D_"
      },
      "id": "At-7n1XUv3D_",
      "execution_count": null,
      "outputs": []
    },
    {
      "cell_type": "markdown",
      "source": [
        "##2.3 Spaltenaufarbeitung"
      ],
      "metadata": {
        "id": "5VagkXNyo5J9"
      },
      "id": "5VagkXNyo5J9"
    },
    {
      "cell_type": "code",
      "source": [
        "data['GesamtzufriedenheitSummiert'] = data['Inflight wifi service'] + data['Departure/Arrival time convenient'] + data['Ease of Online booking'] + data['Gate location'] + data['Food and drink'] + data['Online boarding'] + data['Seat comfort'] + data['Inflight entertainment'] + data['On-board service'] + data['Leg room service'] + data['Baggage handling'] + data['Checkin service'] + data['Inflight service'] + data['Cleanliness']"
      ],
      "metadata": {
        "id": "OSHCb-1Rm66r"
      },
      "id": "OSHCb-1Rm66r",
      "execution_count": null,
      "outputs": []
    },
    {
      "cell_type": "code",
      "source": [
        "#Neue Spalte \"Flugverspatung in Minuten\" hinzufügen\n",
        "#Die im Flug aufgeholte Zeit in Minuten ist positiv\n",
        "#Die im Flug noch zusätzliche Verspätung ist negativ\n",
        "data['FlugverspatungInMinuten'] = data['Arrival Delay in Minutes'] - data['Departure Delay in Minutes']"
      ],
      "metadata": {
        "id": "9IaHSQSW4ivS"
      },
      "id": "9IaHSQSW4ivS",
      "execution_count": null,
      "outputs": []
    },
    {
      "cell_type": "code",
      "source": [
        "data['IstPuenktlich'] = np.where((data['Arrival Delay in Minutes'] - data['Departure Delay in Minutes'])==0, 1, 0)"
      ],
      "metadata": {
        "id": "qs7yTz_N56JC"
      },
      "id": "qs7yTz_N56JC",
      "execution_count": null,
      "outputs": []
    },
    {
      "cell_type": "code",
      "source": [
        "#Erste Spalte \"Unnamed: 0\" löschen, ist bloß ein Zeilenzähler\n",
        "data = data.drop(\"Unnamed: 0\", axis=1)"
      ],
      "metadata": {
        "id": "CtBUrGtIobuA"
      },
      "id": "CtBUrGtIobuA",
      "execution_count": null,
      "outputs": []
    },
    {
      "cell_type": "code",
      "source": [
        "data = data.drop(\"id\", axis=1)"
      ],
      "metadata": {
        "id": "wbeTkOUmw7vu"
      },
      "id": "wbeTkOUmw7vu",
      "execution_count": null,
      "outputs": []
    },
    {
      "cell_type": "code",
      "source": [
        "data['IstKind'] = np.where(data.Age<13 , 1, 0)"
      ],
      "metadata": {
        "id": "w4d6Aaqhq-0y"
      },
      "id": "w4d6Aaqhq-0y",
      "execution_count": null,
      "outputs": []
    },
    {
      "cell_type": "code",
      "source": [
        "data['IstErwachsener'] = np.where(data.Age>=18 , 1, 0)"
      ],
      "metadata": {
        "id": "P8wL41G3tMnn"
      },
      "id": "P8wL41G3tMnn",
      "execution_count": null,
      "outputs": []
    },
    {
      "cell_type": "code",
      "source": [
        "data['IstTeenager'] = np.where((data.Age>12) & (data.Age<18), 1, 0)"
      ],
      "metadata": {
        "id": "Nj2L7J0frVow"
      },
      "id": "Nj2L7J0frVow",
      "execution_count": null,
      "outputs": []
    },
    {
      "cell_type": "code",
      "source": [
        "#umbenennen\n",
        "data = data.rename({\"id\":\"id\", \"Gender\":\"Geschlecht\", \"Customer Type\":\"PassagierTyp\", \"Age\":\"Alter\", \"Type of Travel\":\"Reisetyp\", \"Class\":\"Klasse\", \"Flight Distance\":\"Flugdistanz\", \"Inflight wifi service\":\"InternetAufFlug\", \"Departure/Arrival time convenient\":\"Abreisezeit_Ankunftszeit_Bequemlichkeit\", \"Ease of Online booking\":\"LeichtigkeitDerOnlineBuchung\", \"Gate location\":\"StandortGate\", \"Food and drink\":\"EssenTrinken\", \"Online boarding\":\"OnlineBoarding\", \"Seat comfort\":\"Sitzkomfort\", \"Inflight entertainment\":\"Flugentertainment\", \"On-board service\":\"OnboradingService\", \"Leg room service\":\"Beinfreiheit\", \"Baggage handling\":\"Gepaeckumgang\", \"Checkin service\":\"CheckinService\", \"Inflight service\":\"Flugservice\", \"Cleanliness\":\"Sauberkeit\", \"Departure Delay in Minutes\":\"AbflugverspaetungInMinuten\", \"Arrival Delay in Minutes\":\"GesamtverspaetungInMinuten\", \"satisfaction\":\"IstZufrieden\"}, axis=1)"
      ],
      "metadata": {
        "id": "_T82dASnjBg2"
      },
      "id": "_T82dASnjBg2",
      "execution_count": null,
      "outputs": []
    },
    {
      "cell_type": "code",
      "source": [
        "data.head()"
      ],
      "metadata": {
        "id": "EaKLvT8mqZsW"
      },
      "id": "EaKLvT8mqZsW",
      "execution_count": null,
      "outputs": []
    },
    {
      "cell_type": "markdown",
      "source": [
        "##2.4 Check for Unique Values"
      ],
      "metadata": {
        "id": "_om3nCu5z3c2"
      },
      "id": "_om3nCu5z3c2"
    },
    {
      "cell_type": "code",
      "source": [
        "for col in data:\n",
        "    print(data[col].unique())"
      ],
      "metadata": {
        "id": "woWRnz4uz6Ph"
      },
      "id": "woWRnz4uz6Ph",
      "execution_count": null,
      "outputs": []
    },
    {
      "cell_type": "markdown",
      "source": [
        "##2.5 Ausreißer erkunden"
      ],
      "metadata": {
        "id": "EEaArmuJnIvR"
      },
      "id": "EEaArmuJnIvR"
    },
    {
      "cell_type": "code",
      "source": [
        "#Datensatz kopieren um nach und nach Ausreißer zu entfernen\n",
        "data_ohneAusreisser = data.copy()"
      ],
      "metadata": {
        "id": "ApZDMpvFXXOu"
      },
      "id": "ApZDMpvFXXOu",
      "execution_count": null,
      "outputs": []
    },
    {
      "cell_type": "markdown",
      "source": [
        "###2.5.1 Alter"
      ],
      "metadata": {
        "id": "Lko6gzmlnXW5"
      },
      "id": "Lko6gzmlnXW5"
    },
    {
      "cell_type": "code",
      "source": [
        "plt.figure(figsize=(13,8))\n",
        "sns.distplot(data_ohneAusreisser.Alter, color='purple');"
      ],
      "metadata": {
        "id": "qegG3dP6nNk2"
      },
      "id": "qegG3dP6nNk2",
      "execution_count": null,
      "outputs": []
    },
    {
      "cell_type": "code",
      "source": [
        "fig = make_subplots(rows=1, cols=3)\n",
        "\n",
        "fig.add_trace(go.Box(y=data_ohneAusreisser['Alter'], notched=True, name='Alter', marker_color = '#6699ff', \n",
        "                     boxmean=True, boxpoints='suspectedoutliers'), 1, 2)\n",
        "\n",
        "fig.update_layout(title_text='Boxplot für das Alter')\n",
        "\n",
        "fig.show()"
      ],
      "metadata": {
        "id": "3dSUZD8Bnaq-"
      },
      "id": "3dSUZD8Bnaq-",
      "execution_count": null,
      "outputs": []
    },
    {
      "cell_type": "markdown",
      "source": [
        "###2.5.2 Flugdistanz"
      ],
      "metadata": {
        "id": "sDMYYrvfoEAc"
      },
      "id": "sDMYYrvfoEAc"
    },
    {
      "cell_type": "markdown",
      "source": [
        "####2.5.2.1 Mit Ausreißer"
      ],
      "metadata": {
        "id": "507MrwosYF8p"
      },
      "id": "507MrwosYF8p"
    },
    {
      "cell_type": "code",
      "source": [
        "plt.figure(figsize=(13,8))\n",
        "sns.distplot(data.Flugdistanz, color='purple');"
      ],
      "metadata": {
        "id": "VEqfqqChoEAc"
      },
      "execution_count": null,
      "outputs": [],
      "id": "VEqfqqChoEAc"
    },
    {
      "cell_type": "code",
      "source": [
        "fig = make_subplots(rows=1, cols=3)\n",
        "\n",
        "fig.add_trace(go.Box(y=data['Flugdistanz'], notched=True, name='Flugdistanz', marker_color = '#6699ff', \n",
        "                     boxmean=True, boxpoints='suspectedoutliers'), 1, 2)\n",
        "\n",
        "fig.update_layout(title_text='Boxplot für die Flugdistanz')\n",
        "\n",
        "fig.show()"
      ],
      "metadata": {
        "id": "xl-XrHAXoEAd"
      },
      "execution_count": null,
      "outputs": [],
      "id": "xl-XrHAXoEAd"
    },
    {
      "cell_type": "markdown",
      "source": [
        "####2.5.2.2 Ohne Ausreißer"
      ],
      "metadata": {
        "id": "ZgdvSRAnYNT7"
      },
      "id": "ZgdvSRAnYNT7"
    },
    {
      "cell_type": "code",
      "source": [
        "data_ohneAusreisser.drop(data_ohneAusreisser[data_ohneAusreisser['Flugdistanz'] > 4000].index, inplace = True)"
      ],
      "metadata": {
        "id": "n351AQV3Xyrj"
      },
      "id": "n351AQV3Xyrj",
      "execution_count": null,
      "outputs": []
    },
    {
      "cell_type": "code",
      "source": [
        "plt.figure(figsize=(13,8))\n",
        "sns.distplot(data_ohneAusreisser.Flugdistanz, color='purple');"
      ],
      "metadata": {
        "id": "cXhtlQ8CYQqf"
      },
      "id": "cXhtlQ8CYQqf",
      "execution_count": null,
      "outputs": []
    },
    {
      "cell_type": "code",
      "source": [
        "fig = make_subplots(rows=1, cols=3)\n",
        "\n",
        "fig.add_trace(go.Box(y=data_ohneAusreisser['Flugdistanz'], notched=True, name='Flugdistanz', marker_color = '#6699ff', \n",
        "                     boxmean=True, boxpoints='suspectedoutliers'), 1, 2)\n",
        "\n",
        "fig.update_layout(title_text='Boxplot für die Flugdistanz ohne Ausreißer')\n",
        "\n",
        "fig.show()"
      ],
      "metadata": {
        "id": "SD4GOCIPX_DM"
      },
      "id": "SD4GOCIPX_DM",
      "execution_count": null,
      "outputs": []
    },
    {
      "cell_type": "markdown",
      "source": [
        "###2.5.3 Gesamtverspätung"
      ],
      "metadata": {
        "id": "8dHmfZDiokAQ"
      },
      "id": "8dHmfZDiokAQ"
    },
    {
      "cell_type": "markdown",
      "source": [
        "####2.5.3.1 Mit Ausreißer"
      ],
      "metadata": {
        "id": "R_iua3oRYyuw"
      },
      "id": "R_iua3oRYyuw"
    },
    {
      "cell_type": "code",
      "source": [
        "plt.figure(figsize=(13,8))\n",
        "sns.distplot(data_ohneAusreisser['GesamtverspaetungInMinuten'], color='purple');"
      ],
      "metadata": {
        "id": "oGUKulEEokAQ"
      },
      "execution_count": null,
      "outputs": [],
      "id": "oGUKulEEokAQ"
    },
    {
      "cell_type": "code",
      "source": [
        "fig = make_subplots(rows=1, cols=3)\n",
        "\n",
        "fig.add_trace(go.Box(y=data_ohneAusreisser['GesamtverspaetungInMinuten'], notched=True, name='GesamtverspaetungInMinuten', marker_color = '#6699ff', \n",
        "                     boxmean=True, boxpoints='suspectedoutliers'), 1, 2)\n",
        "\n",
        "fig.update_layout(title_text='Boxplot für die Gesamtverspätung mit Ausreißer')\n",
        "\n",
        "fig.show()"
      ],
      "metadata": {
        "id": "A9lTSd_ZokAR"
      },
      "execution_count": null,
      "outputs": [],
      "id": "A9lTSd_ZokAR"
    },
    {
      "cell_type": "markdown",
      "source": [
        "####2.5.3.2 Ohne Ausreißer"
      ],
      "metadata": {
        "id": "vFAlAJ_WY1aS"
      },
      "id": "vFAlAJ_WY1aS"
    },
    {
      "cell_type": "code",
      "source": [
        "data_ohneAusreisser.drop(data_ohneAusreisser[data_ohneAusreisser['GesamtverspaetungInMinuten'] > 300].index, inplace = True)"
      ],
      "metadata": {
        "id": "3IUqvjQDZRP3"
      },
      "id": "3IUqvjQDZRP3",
      "execution_count": null,
      "outputs": []
    },
    {
      "cell_type": "code",
      "source": [
        "plt.figure(figsize=(13,8))\n",
        "sns.distplot(data_ohneAusreisser['GesamtverspaetungInMinuten'], color='purple');"
      ],
      "metadata": {
        "id": "-G1-UISnY3VU"
      },
      "id": "-G1-UISnY3VU",
      "execution_count": null,
      "outputs": []
    },
    {
      "cell_type": "code",
      "source": [
        "fig = make_subplots(rows=1, cols=3)\n",
        "\n",
        "fig.add_trace(go.Box(y=data_ohneAusreisser['GesamtverspaetungInMinuten'], notched=True, name='GesamtverspaetungInMinuten', marker_color = '#6699ff', \n",
        "                     boxmean=True, boxpoints='suspectedoutliers'), 1, 2)\n",
        "\n",
        "fig.update_layout(title_text='Boxplot für die Gesamtverspätung ohne Ausreißer')\n",
        "\n",
        "fig.show()"
      ],
      "metadata": {
        "id": "PCHnucT8Zjob"
      },
      "id": "PCHnucT8Zjob",
      "execution_count": null,
      "outputs": []
    },
    {
      "cell_type": "markdown",
      "source": [
        "###2.5.4 Punkte Zufriedenheit summiert"
      ],
      "metadata": {
        "id": "A0iP_SiVplgQ"
      },
      "id": "A0iP_SiVplgQ"
    },
    {
      "cell_type": "code",
      "source": [
        "plt.figure(figsize=(13,8))\n",
        "sns.distplot(data_ohneAusreisser['GesamtzufriedenheitSummiert'], color='purple');"
      ],
      "metadata": {
        "id": "aR3QslVCplgq"
      },
      "execution_count": null,
      "outputs": [],
      "id": "aR3QslVCplgq"
    },
    {
      "cell_type": "code",
      "source": [
        "fig = make_subplots(rows=1, cols=3)\n",
        "\n",
        "fig.add_trace(go.Box(y=data_ohneAusreisser['GesamtzufriedenheitSummiert'], notched=True, name='GesamtzufriedenheitSummiert', marker_color = '#6699ff', \n",
        "                     boxmean=True, boxpoints='suspectedoutliers'), 1, 2)\n",
        "\n",
        "fig.update_layout(title_text='Boxplot für die Gesamtzufriedenheit summiert')\n",
        "\n",
        "fig.show()"
      ],
      "metadata": {
        "id": "DJsxgC0gplgs"
      },
      "execution_count": null,
      "outputs": [],
      "id": "DJsxgC0gplgs"
    },
    {
      "cell_type": "markdown",
      "source": [
        "#3. Analyse\n",
        "\n",
        "---"
      ],
      "metadata": {
        "id": "uuiBxWJObe48"
      },
      "id": "uuiBxWJObe48"
    },
    {
      "cell_type": "markdown",
      "source": [
        "##3.1 Kategorienverteilung checken"
      ],
      "metadata": {
        "id": "EWvdYUcDqXTR"
      },
      "id": "EWvdYUcDqXTR"
    },
    {
      "cell_type": "code",
      "source": [
        "categorical = [var for var in data_ohneAusreisser.columns if data_ohneAusreisser[var].dtype=='O']\n",
        "categorical"
      ],
      "metadata": {
        "id": "aRZiVUmBqIKk"
      },
      "id": "aRZiVUmBqIKk",
      "execution_count": null,
      "outputs": []
    },
    {
      "cell_type": "code",
      "source": [
        "#prozentuale Verteilung der Spalten im Bezug zur Gesamtanzahl\n",
        "for var in categorical:\n",
        "    print(data_ohneAusreisser[var].value_counts() / np.float(len(data_ohneAusreisser)))\n",
        "    print(\"\\n\\n\")"
      ],
      "metadata": {
        "id": "uXgjrzMSqMu8"
      },
      "id": "uXgjrzMSqMu8",
      "execution_count": null,
      "outputs": []
    },
    {
      "cell_type": "markdown",
      "source": [
        "##3.2 Korrelation"
      ],
      "metadata": {
        "id": "pjlH0SKowXsS"
      },
      "id": "pjlH0SKowXsS"
    },
    {
      "cell_type": "code",
      "source": [
        "corrmat = data_ohneAusreisser.corr()\n",
        "\n",
        "plt.figure(figsize=(24,13))  \n",
        "sns.heatmap(corrmat, annot = True, cmap = 'RdBu', center = 0, vmin=-1, vmax=1)\n",
        "plt.title('Correlation Heatmap',fontsize=14)"
      ],
      "metadata": {
        "id": "9-E6amEtwZiz"
      },
      "id": "9-E6amEtwZiz",
      "execution_count": null,
      "outputs": []
    },
    {
      "cell_type": "code",
      "source": [
        "plt.figure(figsize=(13,8))\n",
        "sns.scatterplot(x=data_ohneAusreisser['AbflugverspaetungInMinuten'], y=data_ohneAusreisser['GesamtverspaetungInMinuten'], color='#cc0000');"
      ],
      "metadata": {
        "id": "YCM59ZUQVtQ2"
      },
      "id": "YCM59ZUQVtQ2",
      "execution_count": null,
      "outputs": []
    },
    {
      "cell_type": "markdown",
      "source": [
        "#4. Clustern Vorbereitung"
      ],
      "metadata": {
        "id": "jrHggyPT5-5x"
      },
      "id": "jrHggyPT5-5x"
    },
    {
      "cell_type": "markdown",
      "source": [
        "##4.1 Spalten numerisch machen"
      ],
      "metadata": {
        "id": "Tpj6CbCY6SfV"
      },
      "id": "Tpj6CbCY6SfV"
    },
    {
      "cell_type": "code",
      "source": [
        "#datensatz umbenennen\n",
        "data_numerisch = data_ohneAusreisser.copy()"
      ],
      "metadata": {
        "id": "i8Cy64h76hzL"
      },
      "id": "i8Cy64h76hzL",
      "execution_count": null,
      "outputs": []
    },
    {
      "cell_type": "code",
      "source": [
        "# data_numerisch['Geschlecht'] = data_numerisch['Geschlecht'].replace({'Female':0, 'Male':1})\n",
        "# data_numerisch['IstZufrieden'] = data_numerisch['IstZufrieden'].replace({'satisfied':1, 'neutral or dissatisfied':0})\n",
        "# data_numerisch['PassagierTyp'] = data_numerisch['PassagierTyp'].replace({'Loyal Customer':1, 'disloyal Customer':0})\n",
        "# data_numerisch['Klasse'] = data_numerisch['Klasse'].replace({'Business':0, 'Eco':1, 'Eco Plus':2})\n",
        "# data_numerisch['Reisetyp'] = data_numerisch['Reisetyp'].replace({'Business travel':0, 'Personal Travel':1})"
      ],
      "metadata": {
        "id": "eEofx93d6YT6"
      },
      "id": "eEofx93d6YT6",
      "execution_count": null,
      "outputs": []
    },
    {
      "cell_type": "code",
      "source": [
        "data_numerisch.head()"
      ],
      "metadata": {
        "id": "wYSAx4kU7Tj9"
      },
      "id": "wYSAx4kU7Tj9",
      "execution_count": null,
      "outputs": []
    },
    {
      "cell_type": "code",
      "source": [
        "data_numerisch.dtypes"
      ],
      "metadata": {
        "id": "SD7wXw3r7WnX"
      },
      "id": "SD7wXw3r7WnX",
      "execution_count": null,
      "outputs": []
    },
    {
      "cell_type": "markdown",
      "source": [
        "##4.2 Nicht benötgite Spalten entfernen"
      ],
      "metadata": {
        "id": "om6MBciC7CRG"
      },
      "id": "om6MBciC7CRG"
    },
    {
      "cell_type": "code",
      "source": [
        "#datensatz umbenennen\n",
        "data_final = data_numerisch.copy()"
      ],
      "metadata": {
        "id": "49G2bYhp7HOG"
      },
      "id": "49G2bYhp7HOG",
      "execution_count": null,
      "outputs": []
    },
    {
      "cell_type": "code",
      "source": [
        "data_final.head()"
      ],
      "metadata": {
        "id": "ue-CU-847mBy"
      },
      "id": "ue-CU-847mBy",
      "execution_count": null,
      "outputs": []
    },
    {
      "cell_type": "markdown",
      "source": [
        "##4.3 Feature Scaling"
      ],
      "metadata": {
        "id": "YgLo5A2wc-yk"
      },
      "id": "YgLo5A2wc-yk"
    },
    {
      "cell_type": "code",
      "source": [
        "scaler = StandardScaler()\n",
        "data_scaled = pd.DataFrame(scaler.fit_transform(data_final), columns = data_final.columns)"
      ],
      "metadata": {
        "id": "-3_bKvCfdA1A"
      },
      "id": "-3_bKvCfdA1A",
      "execution_count": null,
      "outputs": []
    },
    {
      "cell_type": "code",
      "source": [
        "data_scaled.head()"
      ],
      "metadata": {
        "id": "aVi4HaAmdLCF"
      },
      "id": "aVi4HaAmdLCF",
      "execution_count": null,
      "outputs": []
    },
    {
      "cell_type": "markdown",
      "source": [
        "##4.4 Dimensionsreduktion"
      ],
      "metadata": {
        "id": "uXEOe1BGdZfv"
      },
      "id": "uXEOe1BGdZfv"
    },
    {
      "cell_type": "markdown",
      "source": [
        "###4.2.1 PCA mit 28 Features"
      ],
      "metadata": {
        "id": "Zm7sCGqReEHj"
      },
      "id": "Zm7sCGqReEHj"
    },
    {
      "cell_type": "code",
      "source": [
        "pca28 = PCA()\n",
        "pca28.fit(data_scaled)\n",
        "\n",
        "#50% meiner Features machen 80% meiner Varianz aus\n",
        "plt.figure(figsize=(12, 9))\n",
        "plt.plot(range(1, 30), pca28.explained_variance_ratio_.cumsum(), marker='o', linestyle='--')\n",
        "plt.xlabel('Number of Components')\n",
        "plt.ylabel('Cumulative Explained Variance')"
      ],
      "metadata": {
        "id": "6d_4rBJSdkZe"
      },
      "id": "6d_4rBJSdkZe",
      "execution_count": null,
      "outputs": []
    },
    {
      "cell_type": "markdown",
      "source": [
        "###4.2.2 PCA mit 17 & 20 Features (90-95% meiner Varianz)"
      ],
      "metadata": {
        "id": "zJw8OQbdlQCc"
      },
      "id": "zJw8OQbdlQCc"
    },
    {
      "cell_type": "code",
      "source": [
        "#17\n",
        "pca17 = PCA(n_components=17)\n",
        "pca17.fit(data_scaled)\n",
        "\n",
        "df_pca17_components = pd.DataFrame(\n",
        "    data=pca17.components_.round(4),\n",
        "    columns=data_scaled.columns.values,\n",
        "    index=['component 1', 'component 2', 'component 3', 'component 4', 'component 5', 'component 6', 'component 7', 'component 8', 'component 9', 'component 10', 'component 11', 'component 12','component 13', 'component 14', 'component 15', 'component 16', 'component 17'])\n",
        "\n",
        "df_pca17_components\n",
        "#------------------------------------------------------------------------------\n",
        "plt.figure(figsize=(24,6))  \n",
        "sns.heatmap(df_pca17_components, annot = True, cmap = 'RdBu', center = 0, vmin=-1, vmax=1)\n",
        "plt.title('Correlation Heatmap',fontsize=14)"
      ],
      "metadata": {
        "id": "_IuBRvg1ldWq"
      },
      "id": "_IuBRvg1ldWq",
      "execution_count": null,
      "outputs": []
    },
    {
      "cell_type": "code",
      "source": [
        "#20\n",
        "pca20 = PCA(n_components=20)\n",
        "pca20.fit(data_scaled)\n",
        "\n",
        "df_pca20_components = pd.DataFrame(\n",
        "    data=pca20.components_.round(4),\n",
        "    columns=data_scaled.columns.values,\n",
        "    index=['component 1', 'component 2', 'component 3', 'component 4', 'component 5', 'component 6', 'component 7', 'component 8', 'component 9', 'component 10', 'component 11', 'component 12','component 13', 'component 14', 'component 15', 'component 16', 'component 17', 'component 18', 'component 19', 'component 20'])\n",
        "\n",
        "df_pca20_components\n",
        "#------------------------------------------------------------------------------\n",
        "plt.figure(figsize=(24,6))  \n",
        "sns.heatmap(df_pca20_components, annot = True, cmap = 'RdBu', center = 0, vmin=-1, vmax=1)\n",
        "plt.title('Correlation Heatmap',fontsize=14)"
      ],
      "metadata": {
        "id": "31NCmPzcpLGR"
      },
      "id": "31NCmPzcpLGR",
      "execution_count": null,
      "outputs": []
    },
    {
      "cell_type": "markdown",
      "source": [
        "###4.2.3 PCA mit 9-12 Features (70-80% meiner Varianz)"
      ],
      "metadata": {
        "id": "OzbCoiL5eIPl"
      },
      "id": "OzbCoiL5eIPl"
    },
    {
      "cell_type": "code",
      "source": [
        "#12\n",
        "pca12 = PCA(n_components=12)\n",
        "pca12.fit(data_scaled)\n",
        "\n",
        "df_pca12_components = pd.DataFrame(\n",
        "    data=pca12.components_.round(4),\n",
        "    columns=data_scaled.columns.values,\n",
        "    index=['component 1', 'component 2', 'component 3', 'component 4', 'component 5', 'component 6', 'component 7', 'component 8', 'component 9', 'component 10', 'component 11', 'component 12'])\n",
        "\n",
        "df_pca12_components\n",
        "#------------------------------------------------------------------------------\n",
        "plt.figure(figsize=(24,6))  \n",
        "sns.heatmap(df_pca12_components, annot = True, cmap = 'RdBu', center = 0, vmin=-1, vmax=1)\n",
        "plt.title('Correlation Heatmap',fontsize=14)"
      ],
      "metadata": {
        "id": "0stjN50PeIPm"
      },
      "execution_count": null,
      "outputs": [],
      "id": "0stjN50PeIPm"
    },
    {
      "cell_type": "code",
      "source": [
        "#11\n",
        "pca11 = PCA(n_components=11)\n",
        "pca11.fit(data_scaled)\n",
        "\n",
        "df_pca11_components = pd.DataFrame(\n",
        "    data=pca11.components_.round(4),\n",
        "    columns=data_scaled.columns.values,\n",
        "    index=['component 1', 'component 2', 'component 3', 'component 4', 'component 5', 'component 6', 'component 7', 'component 8', 'component 9', 'component 10', 'component 11'])\n",
        "\n",
        "df_pca11_components\n",
        "#------------------------------------------------------------------------------\n",
        "plt.figure(figsize=(24,6))  \n",
        "sns.heatmap(df_pca11_components, annot = True, cmap = 'RdBu', center = 0, vmin=-1, vmax=1)\n",
        "plt.title('Correlation Heatmap',fontsize=14)"
      ],
      "metadata": {
        "id": "EDkk4bdUfGOu"
      },
      "id": "EDkk4bdUfGOu",
      "execution_count": null,
      "outputs": []
    },
    {
      "cell_type": "code",
      "source": [
        "#10\n",
        "pca10 = PCA(n_components=10)\n",
        "pca10.fit(data_scaled)\n",
        "\n",
        "df_pca10_components = pd.DataFrame(\n",
        "    data=pca10.components_.round(4),\n",
        "    columns=data_scaled.columns.values,\n",
        "    index=['component 1', 'component 2', 'component 3', 'component 4', 'component 5', 'component 6', 'component 7', 'component 8', 'component 9', 'component 10'])\n",
        "\n",
        "df_pca10_components\n",
        "#------------------------------------------------------------------------------\n",
        "plt.figure(figsize=(24,6))  \n",
        "sns.heatmap(df_pca10_components, annot = True, cmap = 'RdBu', center = 0, vmin=-1, vmax=1)\n",
        "plt.title('Correlation Heatmap',fontsize=14)"
      ],
      "metadata": {
        "id": "fvctlCoYk_TA"
      },
      "id": "fvctlCoYk_TA",
      "execution_count": null,
      "outputs": []
    },
    {
      "cell_type": "code",
      "source": [
        "#9\n",
        "pca9 = PCA(n_components=9)\n",
        "pca9.fit(data_scaled)\n",
        "\n",
        "df_pca9_components = pd.DataFrame(\n",
        "    data=pca9.components_.round(4),\n",
        "    columns=data_scaled.columns.values,\n",
        "    index=['component 1', 'component 2', 'component 3', 'component 4', 'component 5', 'component 6', 'component 7', 'component 8', 'component 9'])\n",
        "\n",
        "df_pca9_components\n",
        "#------------------------------------------------------------------------------\n",
        "plt.figure(figsize=(24,6))  \n",
        "sns.heatmap(df_pca9_components, annot = True, cmap = 'RdBu', center = 0, vmin=-1, vmax=1)\n",
        "plt.title('Correlation Heatmap',fontsize=14)"
      ],
      "metadata": {
        "id": "bpvibE4dlHdk"
      },
      "id": "bpvibE4dlHdk",
      "execution_count": null,
      "outputs": []
    },
    {
      "cell_type": "markdown",
      "source": [
        "#5. Clustern mit K-Means\n",
        "\n",
        "---"
      ],
      "metadata": {
        "id": "OS2dk-U-qQyh"
      },
      "id": "OS2dk-U-qQyh"
    },
    {
      "cell_type": "markdown",
      "source": [
        "##4.1 Elbow method"
      ],
      "metadata": {
        "id": "e84YZ-JLqqIx"
      },
      "id": "e84YZ-JLqqIx"
    },
    {
      "cell_type": "code",
      "source": [
        "#20 Komponenten = 95% meiner Varianz\n",
        "Elbow_M = KElbowVisualizer(KMeans(), k=20)\n",
        "Elbow_M.fit(data_scaled)\n",
        "Elbow_M.show();"
      ],
      "metadata": {
        "id": "mXtZYasqq4re"
      },
      "id": "mXtZYasqq4re",
      "execution_count": null,
      "outputs": []
    },
    {
      "cell_type": "code",
      "source": [
        "#17 Komponenten = 90% meiner Varianz\n",
        "Elbow_M = KElbowVisualizer(KMeans(), k=17)\n",
        "Elbow_M.fit(data_scaled)\n",
        "Elbow_M.show();"
      ],
      "metadata": {
        "id": "NvdqWGBirTUl"
      },
      "id": "NvdqWGBirTUl",
      "execution_count": null,
      "outputs": []
    },
    {
      "cell_type": "markdown",
      "source": [
        "##4.2 K-Means"
      ],
      "metadata": {
        "id": "mqO56y6Psg1v"
      },
      "id": "mqO56y6Psg1v"
    },
    {
      "cell_type": "code",
      "source": [
        "kmeans = KMeans(n_clusters=8, init='k-means++', random_state=42)\n",
        "df = kmeans.fit_transform(data_scaled)"
      ],
      "metadata": {
        "id": "AWd3HiVasjYi"
      },
      "id": "AWd3HiVasjYi",
      "execution_count": null,
      "outputs": []
    },
    {
      "cell_type": "code",
      "source": [
        "data_kmeans = data_scaled.copy()\n",
        "data_kmeans['Clusters'] = kmeans.labels_"
      ],
      "metadata": {
        "id": "AW76uPbAstSi"
      },
      "id": "AW76uPbAstSi",
      "execution_count": null,
      "outputs": []
    },
    {
      "cell_type": "code",
      "source": [
        "data_analysis = data_kmeans.groupby('Clusters').mean().round(3)\n",
        "data_analysis"
      ],
      "metadata": {
        "id": "MstCZqPis0sF"
      },
      "id": "MstCZqPis0sF",
      "execution_count": null,
      "outputs": []
    },
    {
      "cell_type": "code",
      "source": [
        "#predict the labels of clusters.\n",
        "labels = kmeans.fit_predict(data_scaled)\n",
        "print(label)\n",
        "\n",
        "#Getting unique labels\n",
        "u_labels = np.unique(labels)\n",
        "print(u_labels)"
      ],
      "metadata": {
        "id": "_ZsrOfkc0xE_"
      },
      "id": "_ZsrOfkc0xE_",
      "execution_count": null,
      "outputs": []
    },
    {
      "cell_type": "code",
      "source": [
        "#plotting the results:\n",
        "for i in u_labels:\n",
        "    plt.scatter(df[label == i , 1] , df[label == i , 3] , label = i)\n",
        "plt.legend()\n",
        "plt.show()"
      ],
      "metadata": {
        "id": "tUESFS5R0IIA"
      },
      "id": "tUESFS5R0IIA",
      "execution_count": null,
      "outputs": []
    },
    {
      "cell_type": "markdown",
      "source": [
        "#6. Hierarchical Clustering\n",
        "\n",
        "---"
      ],
      "metadata": {
        "id": "UrXC37pXthtH"
      },
      "id": "UrXC37pXthtH"
    },
    {
      "cell_type": "code",
      "source": [],
      "metadata": {
        "id": "WqXu0OqstntL"
      },
      "id": "WqXu0OqstntL",
      "execution_count": null,
      "outputs": []
    }
  ],
  "metadata": {
    "kernelspec": {
      "display_name": "Python 3 (ipykernel)",
      "language": "python",
      "name": "python3"
    },
    "language_info": {
      "codemirror_mode": {
        "name": "ipython",
        "version": 3
      },
      "file_extension": ".py",
      "mimetype": "text/x-python",
      "name": "python",
      "nbconvert_exporter": "python",
      "pygments_lexer": "ipython3",
      "version": "3.9.12"
    },
    "colab": {
      "provenance": [],
      "collapsed_sections": [
        "7d93a242",
        "Ihh3atcMu4W1",
        "Kb1IhXJcfdkk",
        "5VagkXNyo5J9"
      ],
      "include_colab_link": true
    }
  },
  "nbformat": 4,
  "nbformat_minor": 5
}